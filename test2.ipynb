{
 "cells": [
  {
   "cell_type": "code",
   "execution_count": 1,
   "metadata": {},
   "outputs": [],
   "source": [
    "import perceval as pcvl\n",
    "from perceval import BS, PS"
   ]
  },
  {
   "cell_type": "code",
   "execution_count": 31,
   "metadata": {},
   "outputs": [
    {
     "data": {
      "text/latex": [
       "$\\displaystyle \\left[\\begin{matrix}e^{3 i} \\cos{\\left(\\frac{1}{2} \\right)} & i \\sin{\\left(\\frac{1}{2} \\right)} & 0\\\\i e^{4 i} \\sin{\\left(\\frac{1}{2} \\right)} \\cos{\\left(1 \\right)} & e^{i} \\cos{\\left(\\frac{1}{2} \\right)} \\cos{\\left(1 \\right)} & i \\sin{\\left(1 \\right)}\\\\- e^{4 i} \\sin{\\left(\\frac{1}{2} \\right)} \\sin{\\left(1 \\right)} & i e^{i} \\sin{\\left(1 \\right)} \\cos{\\left(\\frac{1}{2} \\right)} & \\cos{\\left(1 \\right)}\\end{matrix}\\right]$"
      ],
      "text/plain": [
       "<IPython.core.display.Math object>"
      ]
     },
     "metadata": {},
     "output_type": "display_data"
    },
    {
     "data": {
      "text/html": [
       "<table>\n",
       "<thead>\n",
       "<tr><th>       </th><th style=\"text-align: right;\">  |0,2,0&gt;</th><th style=\"text-align: right;\">  |0,1,1&gt;</th><th style=\"text-align: right;\">  |2,0,0&gt;</th><th style=\"text-align: right;\">  |1,1,0&gt;</th><th style=\"text-align: right;\">  |1,0,1&gt;</th><th style=\"text-align: right;\">  |0,0,2&gt;</th></tr>\n",
       "</thead>\n",
       "<tbody>\n",
       "<tr><td>|0,2,0&gt;</td><td style=\"text-align: right;\"> 0.050547</td><td style=\"text-align: right;\"> 0.245208</td><td style=\"text-align: right;\"> 0.05283 </td><td style=\"text-align: right;\"> 0.103353</td><td style=\"text-align: right;\"> 0.250684</td><td style=\"text-align: right;\"> 0.297378</td></tr>\n",
       "<tr><td>|0,1,1&gt;</td><td style=\"text-align: right;\"> 0.318389</td><td style=\"text-align: right;\"> 0.133373</td><td style=\"text-align: right;\"> 0       </td><td style=\"text-align: right;\"> 0.16275 </td><td style=\"text-align: right;\"> 0.067099</td><td style=\"text-align: right;\"> 0.318389</td></tr>\n",
       "<tr><td>|2,0,0&gt;</td><td style=\"text-align: right;\"> 0.004502</td><td style=\"text-align: right;\"> 0.021841</td><td style=\"text-align: right;\"> 0.593133</td><td style=\"text-align: right;\"> 0.103353</td><td style=\"text-align: right;\"> 0.250684</td><td style=\"text-align: right;\"> 0.026488</td></tr>\n",
       "<tr><td>|1,1,0&gt;</td><td style=\"text-align: right;\"> 0.030171</td><td style=\"text-align: right;\"> 0.146363</td><td style=\"text-align: right;\"> 0.354037</td><td style=\"text-align: right;\"> 0.085221</td><td style=\"text-align: right;\"> 0.206705</td><td style=\"text-align: right;\"> 0.177503</td></tr>\n",
       "<tr><td>|1,0,1&gt;</td><td style=\"text-align: right;\"> 0.095022</td><td style=\"text-align: right;\"> 0.039805</td><td style=\"text-align: right;\"> 0       </td><td style=\"text-align: right;\"> 0.545324</td><td style=\"text-align: right;\"> 0.224828</td><td style=\"text-align: right;\"> 0.095022</td></tr>\n",
       "<tr><td>|0,0,2&gt;</td><td style=\"text-align: right;\"> 0.501368</td><td style=\"text-align: right;\"> 0.413411</td><td style=\"text-align: right;\"> 0       </td><td style=\"text-align: right;\"> 0       </td><td style=\"text-align: right;\"> 0       </td><td style=\"text-align: right;\"> 0.085221</td></tr>\n",
       "</tbody>\n",
       "</table>"
      ],
      "text/plain": [
       "<IPython.core.display.HTML object>"
      ]
     },
     "metadata": {},
     "output_type": "display_data"
    }
   ],
   "source": [
    "from itertools import combinations_with_replacement\n",
    "c = pcvl.Circuit(3)\n",
    "c.add(0, BS(1,3))\n",
    "c.add(1, BS(2,1))\n",
    "states = [[0,2,0], [0,1,1], [2,0,0], [1,1,0], [1,0,1],[0,0,2]]\n",
    "a1 = pcvl.algorithm.Analyzer(pcvl.Processor('SLOS',c),[pcvl.BasicState(i) for i in states], '*')\n",
    "pcvl.pdisplay(c.U)\n",
    "pcvl.pdisplay(a1)"
   ]
  },
  {
   "cell_type": "code",
   "execution_count": 32,
   "metadata": {},
   "outputs": [
    {
     "data": {
      "text/html": [
       "<table>\n",
       "<thead>\n",
       "<tr><th>       </th><th style=\"text-align: right;\">  |0,2,0&gt;</th><th style=\"text-align: right;\">  |0,1,1&gt;</th><th style=\"text-align: right;\">  |2,0,0&gt;</th><th style=\"text-align: right;\">  |1,1,0&gt;</th><th style=\"text-align: right;\">  |1,0,1&gt;</th><th style=\"text-align: right;\">  |0,0,2&gt;</th></tr>\n",
       "</thead>\n",
       "<tbody>\n",
       "<tr><td>|0,2,0&gt;</td><td style=\"text-align: right;\"> 0.050547</td><td style=\"text-align: right;\"> 0.318389</td><td style=\"text-align: right;\"> 0.004502</td><td style=\"text-align: right;\"> 0.030171</td><td style=\"text-align: right;\"> 0.095022</td><td style=\"text-align: right;\"> 0.501368</td></tr>\n",
       "<tr><td>|0,1,1&gt;</td><td style=\"text-align: right;\"> 0.245208</td><td style=\"text-align: right;\"> 0.133373</td><td style=\"text-align: right;\"> 0.021841</td><td style=\"text-align: right;\"> 0.146363</td><td style=\"text-align: right;\"> 0.039805</td><td style=\"text-align: right;\"> 0.413411</td></tr>\n",
       "<tr><td>|2,0,0&gt;</td><td style=\"text-align: right;\"> 0.05283 </td><td style=\"text-align: right;\"> 0       </td><td style=\"text-align: right;\"> 0.593133</td><td style=\"text-align: right;\"> 0.354037</td><td style=\"text-align: right;\"> 0       </td><td style=\"text-align: right;\"> 0       </td></tr>\n",
       "<tr><td>|1,1,0&gt;</td><td style=\"text-align: right;\"> 0.103353</td><td style=\"text-align: right;\"> 0.16275 </td><td style=\"text-align: right;\"> 0.103353</td><td style=\"text-align: right;\"> 0.085221</td><td style=\"text-align: right;\"> 0.545324</td><td style=\"text-align: right;\"> 0       </td></tr>\n",
       "<tr><td>|1,0,1&gt;</td><td style=\"text-align: right;\"> 0.250684</td><td style=\"text-align: right;\"> 0.067099</td><td style=\"text-align: right;\"> 0.250684</td><td style=\"text-align: right;\"> 0.206705</td><td style=\"text-align: right;\"> 0.224828</td><td style=\"text-align: right;\"> 0       </td></tr>\n",
       "<tr><td>|0,0,2&gt;</td><td style=\"text-align: right;\"> 0.297378</td><td style=\"text-align: right;\"> 0.318389</td><td style=\"text-align: right;\"> 0.026488</td><td style=\"text-align: right;\"> 0.177503</td><td style=\"text-align: right;\"> 0.095022</td><td style=\"text-align: right;\"> 0.085221</td></tr>\n",
       "</tbody>\n",
       "</table>"
      ],
      "text/plain": [
       "<IPython.core.display.HTML object>"
      ]
     },
     "metadata": {},
     "output_type": "display_data"
    }
   ],
   "source": [
    "import numpy as np\n",
    "\n",
    "mzi = (pcvl.BS() // (0, pcvl.PS(phi=pcvl.Parameter(\"φ_a\")))\n",
    "       // pcvl.BS() // (1, pcvl.PS(phi=pcvl.Parameter(\"φ_b\"))))\n",
    "\n",
    "inv = np.linalg.inv(c.U.tonp())\n",
    "c1 = pcvl.Circuit.decomposition(inv, mzi, phase_shifter_fn=pcvl.PS,)\n",
    "pcvl.pdisplay(c1)\n",
    "\n",
    "a2 = pcvl.algorithm.Analyzer(pcvl.Processor('SLOS',c1), [pcvl.BasicState(i) for i in states] , '*')\n",
    "pcvl.pdisplay(a2)\n"
   ]
  }
 ],
 "metadata": {
  "kernelspec": {
   "display_name": "Python 3",
   "language": "python",
   "name": "python3"
  },
  "language_info": {
   "codemirror_mode": {
    "name": "ipython",
    "version": 3
   },
   "file_extension": ".py",
   "mimetype": "text/x-python",
   "name": "python",
   "nbconvert_exporter": "python",
   "pygments_lexer": "ipython3",
   "version": "3.10.0"
  }
 },
 "nbformat": 4,
 "nbformat_minor": 2
}
