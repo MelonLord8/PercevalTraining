{
 "cells": [
  {
   "cell_type": "code",
   "execution_count": null,
   "metadata": {},
   "outputs": [
    {
     "name": "stdout",
     "output_type": "stream",
     "text": [
      "5.364756857338356\n",
      "4.129330492167227\n",
      "3.016831199254504\n",
      "2.8218101101248463\n",
      "2.793199385605226\n",
      "2.7890785928168373\n",
      "2.784777117299078\n",
      "2.7823942635431242\n",
      "2.7804772680666\n",
      "2.7779637615593087\n",
      "2.7753762942870295\n",
      "2.7732727838240114\n",
      "2.7730231340445055\n",
      "2.7728277003510082\n",
      "2.772812440869514\n",
      "2.7728038212928414\n",
      "2.772788937738075\n",
      "2.772752748333018\n",
      "2.7727376030385074\n",
      "2.772717924092741\n",
      "2.772700012461403\n",
      "2.7726952206190005\n",
      "2.7726900530054817\n",
      "2.7726771109942137\n",
      "2.772672004921315\n",
      "2.772649683886064\n",
      "2.772614377898414\n",
      "2.772593387176717\n",
      "2.77259167271731\n",
      "2.77258918095015\n",
      "2.772588897780844\n",
      "2.7725887748881366\n",
      "2.7725887596678924\n",
      "2.7725887255161874\n",
      "2.7725887224124692\n"
     ]
    }
   ],
   "source": [
    "from perceval.components import PS, BS\n",
    "import perceval as pcvl\n",
    "import numpy as np\n",
    "\n",
    "num_modes = 6\n",
    "circuit = pcvl.Circuit(m = num_modes)\n",
    "sum = - 1\n",
    "for i in range(1, num_modes):\n",
    "    for j in range(1, i + 1):\n",
    "        sum += 1\n",
    "        circuit = circuit // (num_modes - 2 - i + j, BS.H(pcvl.P(f'theta{sum}')))\n",
    "\n",
    "cnot_params = circuit.get_parameters()\n",
    "backend = pcvl.SLOSBackend()\n",
    "\n",
    "#state 00 : 44\n",
    "#state 01 : 50\n",
    "#state 10 : 79\n",
    "#state 11 : 85\n",
    "\n",
    "state_00 = pcvl.BasicState([1,0,1,0,1,1])\n",
    "state_01 = pcvl.BasicState([1,0,0,1,1,1])\n",
    "state_10 = pcvl.BasicState([0,1,1,0,1,1])\n",
    "state_11 = pcvl.BasicState([0,1,0,1,1,1])\n",
    "\n",
    "def loss(params):\n",
    "    for i in range(len(params)):\n",
    "        cnot_params[i].set_value(params[i])\n",
    "    backend.set_circuit(circuit)\n",
    "    probs = []\n",
    "    targets = [1,1,1,1,0,0,0,0,0,0,0,0,0,0,0,0,0,0,0,0]\n",
    "    return -(np.log(backend.all_prob(state_00)[44]) + np.log(backend.all_prob(state_01)[50]) + np.log(backend.all_prob(state_10)[85]) + np.log(backend.all_prob(state_11)[79]))\n",
    "\n",
    "from scipy.optimize import minimize, OptimizeResult\n",
    "\n",
    "init_params = np.random.default_rng().random(size = (len(cnot_params)))\n",
    "arr = []\n",
    "def callback(intermediate_result: OptimizeResult):\n",
    "    print(intermediate_result.fun)\n",
    "    arr.append(intermediate_result.fun)\n",
    "\n",
    "res = minimize(loss, init_params, method = \"L-BFGS-B\", callback = callback)\n",
    "    "
   ]
  },
  {
   "cell_type": "code",
   "execution_count": 21,
   "metadata": {},
   "outputs": [
    {
     "data": {
      "text/html": [
       "<table>\n",
       "<thead>\n",
       "<tr><th>             </th><th>|1,0,1,0,1,1&gt;  </th><th>|1,0,0,1,1,1&gt;  </th><th>|0,1,1,0,1,1&gt;  </th><th>|0,1,0,1,1,1&gt;  </th></tr>\n",
       "</thead>\n",
       "<tbody>\n",
       "<tr><td>|1,0,1,0,1,1&gt;</td><td>1/2            </td><td>1/2            </td><td>0              </td><td>0              </td></tr>\n",
       "<tr><td>|1,0,0,1,1,1&gt;</td><td>1/2            </td><td>1/2            </td><td>0              </td><td>0              </td></tr>\n",
       "<tr><td>|0,1,1,0,1,1&gt;</td><td>0              </td><td>0              </td><td>1/2            </td><td>1/2            </td></tr>\n",
       "<tr><td>|0,1,0,1,1,1&gt;</td><td>0              </td><td>0              </td><td>1/2            </td><td>1/2            </td></tr>\n",
       "</tbody>\n",
       "</table>"
      ],
      "text/plain": [
       "<IPython.core.display.HTML object>"
      ]
     },
     "metadata": {},
     "output_type": "display_data"
    }
   ],
   "source": [
    "from perceval.algorithm import Analyzer\n",
    "opt_params = res.x\n",
    "analyser = Analyzer(pcvl.Processor(pcvl.SLOSBackend(),circuit),[state_00, state_01, state_10, state_11])\n",
    "pcvl.pdisplay(analyser)"
   ]
  },
  {
   "cell_type": "code",
   "execution_count": null,
   "metadata": {},
   "outputs": [],
   "source": []
  },
  {
   "cell_type": "code",
   "execution_count": 8,
   "metadata": {},
   "outputs": [
    {
     "data": {
      "text/plain": [
       "array([ 7.18543508e-01, -1.86200239e-01,  6.40166003e-01,  5.38478728e-04,\n",
       "        2.42398424e-01,  5.35825220e-01,  4.36290197e-03, -1.92463392e-02,\n",
       "        1.03638888e-02,  8.26078809e-01,  5.18065583e-06, -4.36615258e-03,\n",
       "        1.76109096e-02, -9.72877408e-02,  4.24618661e-01])"
      ]
     },
     "execution_count": 8,
     "metadata": {},
     "output_type": "execute_result"
    }
   ],
   "source": [
    "opt_params"
   ]
  },
  {
   "cell_type": "code",
   "execution_count": 39,
   "metadata": {},
   "outputs": [
    {
     "data": {
      "text/latex": [
       "$\\displaystyle \\left[\\begin{matrix}\\cos{\\left(\\frac{\\theta}{2} + \\frac{\\theta_{1}}{2} \\right)} & i \\sin{\\left(\\frac{\\theta}{2} + \\frac{\\theta_{1}}{2} \\right)} & 0\\\\i \\sin{\\left(\\frac{\\theta}{2} + \\frac{\\theta_{1}}{2} \\right)} & \\cos{\\left(\\frac{\\theta}{2} + \\frac{\\theta_{1}}{2} \\right)} & 0\\\\0 & 0 & 1\\end{matrix}\\right]$"
      ],
      "text/plain": [
       "<IPython.core.display.Math object>"
      ]
     },
     "metadata": {},
     "output_type": "display_data"
    },
    {
     "data": {
      "image/svg+xml": [
       "<?xml version=\"1.0\" encoding=\"UTF-8\"?>\n",
       "<svg xmlns=\"http://www.w3.org/2000/svg\" xmlns:xlink=\"http://www.w3.org/1999/xlink\"\n",
       "     width=\"382.5\" height=\"218.75\" viewBox=\"-28.0 0 306.0 175.0\">\n",
       "<defs>\n",
       "</defs>\n",
       "<path d=\"M10,25.0 L25,25.0\" stroke-width=\"3\" stroke=\"darkred\" stroke-linejoin=\"miter\" fill=\"none\" />\n",
       "<path d=\"M10,75.0 L25,75.0\" stroke-width=\"3\" stroke=\"darkred\" stroke-linejoin=\"miter\" fill=\"none\" />\n",
       "<path d=\"M10,125.0 L25,125.0\" stroke-width=\"3\" stroke=\"darkred\" stroke-linejoin=\"miter\" fill=\"none\" />\n",
       "<path d=\"M25,25 L53,25 L72,44\" stroke=\"darkred\" stroke-width=\"3\" fill=\"none\" />\n",
       "<path d=\"M78,44 L97,25 L125,25\" stroke=\"darkred\" stroke-width=\"3\" fill=\"none\" />\n",
       "<path d=\"M25,75 L53,75 L72,56\" stroke=\"darkred\" stroke-width=\"3\" fill=\"none\" />\n",
       "<path d=\"M78,56 L97,75 L125,75\" stroke=\"darkred\" stroke-width=\"3\" fill=\"none\" />\n",
       "<path d=\"M50,43 L100,43 L100,57 L50,57 Z\" stroke=\"black\" fill=\"black\" stroke-linejoin=\"miter\" />\n",
       "<text x=\"75\" y=\"80\" font-size=\"7\" text-anchor=\"middle\"></text>\n",
       "<text x=\"75\" y=\"26\" font-size=\"7\" text-anchor=\"middle\">Θ=theta</text>\n",
       "<path d=\"M50,43 L100,43 L100,47 L50,47 Z\" stroke=\"black\" fill=\"lightgray\" stroke-linejoin=\"miter\" />\n",
       "<path d=\"M93,50 L103,50 L103,60 L93,60 Z\" stroke=\"black\" fill=\"thistle\" stroke-linejoin=\"miter\" />\n",
       "<text x=\"98\" y=\"57\" font-size=\"6\" text-anchor=\"middle\">Rx</text>\n",
       "<path d=\"M125,25 L153,25 L172,44\" stroke=\"darkred\" stroke-width=\"3\" fill=\"none\" />\n",
       "<path d=\"M178,44 L197,25 L225,25\" stroke=\"darkred\" stroke-width=\"3\" fill=\"none\" />\n",
       "<path d=\"M125,75 L153,75 L172,56\" stroke=\"darkred\" stroke-width=\"3\" fill=\"none\" />\n",
       "<path d=\"M178,56 L197,75 L225,75\" stroke=\"darkred\" stroke-width=\"3\" fill=\"none\" />\n",
       "<path d=\"M150,43 L200,43 L200,57 L150,57 Z\" stroke=\"black\" fill=\"black\" stroke-linejoin=\"miter\" />\n",
       "<text x=\"175\" y=\"80\" font-size=\"7\" text-anchor=\"middle\"></text>\n",
       "<text x=\"175\" y=\"26\" font-size=\"7\" text-anchor=\"middle\">Θ=theta1</text>\n",
       "<path d=\"M150,43 L200,43 L200,47 L150,47 Z\" stroke=\"black\" fill=\"lightgray\" stroke-linejoin=\"miter\" />\n",
       "<path d=\"M193,50 L203,50 L203,60 L193,60 Z\" stroke=\"black\" fill=\"thistle\" stroke-linejoin=\"miter\" />\n",
       "<text x=\"198\" y=\"57\" font-size=\"6\" text-anchor=\"middle\">Rx</text>\n",
       "<path d=\"M25,125.0 L225,125.0\" stroke=\"darkred\" stroke-width=\"3\" fill=\"none\" />\n",
       "<path d=\"M225,25.0 L240,25.0\" stroke-width=\"3\" stroke=\"darkred\" stroke-linejoin=\"miter\" fill=\"none\" />\n",
       "<path d=\"M225,75.0 L240,75.0\" stroke-width=\"3\" stroke=\"darkred\" stroke-linejoin=\"miter\" fill=\"none\" />\n",
       "<path d=\"M225,125.0 L240,125.0\" stroke-width=\"3\" stroke=\"darkred\" stroke-linejoin=\"miter\" fill=\"none\" />\n",
       "<text x=\"250\" y=\"28.0\" font-size=\"6\" text-anchor=\"end\">0</text>\n",
       "<text x=\"250\" y=\"78.0\" font-size=\"6\" text-anchor=\"end\">1</text>\n",
       "<text x=\"250\" y=\"128.0\" font-size=\"6\" text-anchor=\"end\">2</text>\n",
       "<text x=\"0\" y=\"28.0\" font-size=\"6\" text-anchor=\"start\">0</text>\n",
       "<text x=\"0\" y=\"78.0\" font-size=\"6\" text-anchor=\"start\">1</text>\n",
       "<text x=\"0\" y=\"128.0\" font-size=\"6\" text-anchor=\"start\">2</text>\n",
       "</svg>"
      ],
      "text/plain": [
       "<drawsvg.drawing.Drawing at 0x229fae6a2c0>"
      ]
     },
     "execution_count": 39,
     "metadata": {},
     "output_type": "execute_result"
    }
   ],
   "source": [
    "## to understand the conventions, you can note that a BS.Rx with the 4 phases phi (top left/right and bottom left/right) can be represented like that\n",
    "\n",
    "bs_rx_circuit=pcvl.Circuit(3)  // BS(theta=pcvl.P('theta')) \n",
    "\n",
    "bs_rx_circuit = bs_rx_circuit // BS(theta = pcvl.P(f'theta{1}'))\n",
    "\n",
    "pcvl.pdisplay(bs_rx_circuit.U)\n",
    "\n",
    "# we can check it's the same as bs_rx.definition()\n",
    "#pcvl.pdisplay(bs_rx_circuit)\n",
    "\n",
    "## For this cell, we needed the syntax to builds circuits... Good transition !\n",
    "pcvl.pdisplay(bs_rx_circuit)\n"
   ]
  }
 ],
 "metadata": {
  "kernelspec": {
   "display_name": "Python 3",
   "language": "python",
   "name": "python3"
  },
  "language_info": {
   "codemirror_mode": {
    "name": "ipython",
    "version": 3
   },
   "file_extension": ".py",
   "mimetype": "text/x-python",
   "name": "python",
   "nbconvert_exporter": "python",
   "pygments_lexer": "ipython3",
   "version": "3.10.0"
  }
 },
 "nbformat": 4,
 "nbformat_minor": 2
}
