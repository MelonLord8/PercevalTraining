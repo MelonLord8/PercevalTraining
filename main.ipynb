{
 "cells": [
  {
   "cell_type": "code",
   "execution_count": null,
   "metadata": {},
   "outputs": [],
   "source": [
    "import perceval as pcvl\n",
    "from perceval.algorithm import Sampler\n",
    "from math import pi\n",
    "from perceval.components import BS, PS"
   ]
  },
  {
   "cell_type": "code",
   "execution_count": null,
   "metadata": {},
   "outputs": [],
   "source": [
    "from sklearn.datasets import make_classification\n",
    "from sklearn.model_selection import train_test_split\n",
    "import matplotlib.pyplot as plt\n",
    "\n",
    "# Generate dataset with 2 features\n",
    "X, y = make_classification(n_samples=100, n_features=2, n_classes=2, n_clusters_per_class=1, n_redundant = 0,random_state=42)\n",
    "\n",
    "# Split into training and testing sets (80% train, 20% test)\n",
    "X_train, X_test, y_train, y_test = train_test_split(X, y, test_size=0.2, random_state=42)\n",
    "\n",
    "# Plot the dataset\n",
    "plt.scatter(X_train[:, 0], X_train[:, 1], c=y_train, marker='o', label=\"Train\", alpha=0.6)\n",
    "plt.scatter(X_test[:, 0], X_test[:, 1], c=y_test, marker='s', label=\"Test\", alpha=0.6)\n",
    "plt.legend()\n",
    "plt.xlabel(\"Feature 1\")\n",
    "plt.ylabel(\"Feature 2\")\n",
    "plt.title(\"Generated Classification Dataset\")\n",
    "plt.show()\n",
    "\n"
   ]
  },
  {
   "cell_type": "code",
   "execution_count": null,
   "metadata": {},
   "outputs": [],
   "source": [
    "CNOT = pcvl.catalog[\"heralded cnot\"].build_processor()\n",
    "def phaseGate(param):\n",
    "    return pcvl.Circuit(2).add(1, PS(param))\n",
    "theta = [pcvl.P(f\"theta{i}\") for i in range(6)]\n",
    "x = [pcvl.P(f\"x{i}\") for i in range(3)]"
   ]
  },
  {
   "cell_type": "code",
   "execution_count": null,
   "metadata": {},
   "outputs": [],
   "source": [
    "feature_map = pcvl.Processor(pcvl.SLOSBackend(), 4)\n",
    "ansatz = pcvl.Processor(pcvl.SLOSBackend(), 4)\n",
    "\n",
    "depth = 2\n",
    "\n",
    "for i in range(2*depth + 1):\n",
    "    if i % 2 == 0:\n",
    "        ansatz.add(0, BS.Ry(theta = theta[i]))\n",
    "        ansatz.add(2, BS.Ry(theta = theta[i + 1])) \n",
    "    else:\n",
    "        ansatz.add(0,CNOT)\n",
    "\n",
    "feature_map.add(0, BS.H())\n",
    "feature_map.add(2, BS.H())\n",
    "feature_map.add(0, phaseGate(x[0]))\n",
    "feature_map.add(2, phaseGate(x[1]))\n",
    "feature_map.add(0, CNOT)\n",
    "feature_map.add(2, phaseGate(x[2]))\n",
    "feature_map.add(0, CNOT)\n",
    "\n",
    "vqc = pcvl.Processor(pcvl.SLOSBackend(), 4)\n",
    "#vqc.add(0, feature_map)\n",
    "vqc.add(0, ansatz)\n",
    "\n",
    "init_state = pcvl.BasicState([1, 0, 1, 0])\n",
    "\n",
    "def get_probs(params, data):\n",
    "    x[0].set_value(2*data[0])\n",
    "    x[1].set_value(2*data[1])\n",
    "    x[2].set_value(2*(pi - data[0])*(pi - data[0]))\n",
    "    for i in range(len(params)):\n",
    "        theta[i].set_value(params[i])\n",
    "    vqc.with_input(init_state)\n",
    "    sampler = Sampler(vqc) \n",
    "    return sampler.probs()['results']\n"
   ]
  },
  {
   "cell_type": "code",
   "execution_count": null,
   "metadata": {},
   "outputs": [],
   "source": [
    "import pennylane as qml\n",
    "from qiskit.circuit.library import ZZFeatureMap, RealAmplitudes\n",
    "import numpy as np\n",
    "\n",
    "dev = qml.device(\"default.qubit\", wires = 2)\n",
    "\n",
    "pennylane_embedding = qml.from_qiskit(ZZFeatureMap(2,1).decompose())\n",
    "pennylane_ansatz = qml.from_qiskit(RealAmplitudes(2, reps = depth).decompose())\n",
    "\n",
    "@qml.qnode(dev)\n",
    "def circuit(x, params):\n",
    "    #pennylane_embedding(x)\n",
    "    pennylane_ansatz(params)\n",
    "    return qml.probs(wires = [0,1])"
   ]
  },
  {
   "cell_type": "code",
   "execution_count": null,
   "metadata": {},
   "outputs": [],
   "source": [
    "data = X_train[0]\n",
    "params = np.random.random((6,))\n",
    "qml.draw_mpl(circuit, style = 'pennylane')(data, params)\n",
    "print(circuit(data, params))\n",
    "print(get_probs(params, data))\n",
    "print(params)"
   ]
  },
  {
   "cell_type": "code",
   "execution_count": null,
   "metadata": {},
   "outputs": [],
   "source": [
    "\n",
    "vqc1 = pcvl.Processor(pcvl.SLOSBackend(), 4)\n",
    "ansatz1 = pcvl.Processor(pcvl.SLOSBackend(), 4)\n",
    "\n",
    "depth = 2\n",
    "for i in range(2*depth + 1):\n",
    "    if i % 2 == 0:\n",
    "        ansatz1.add(0, BS.Ry(theta = pcvl.P(f\"a{i}\")))\n",
    "        ansatz1.add(2, BS.Ry(theta = pcvl.P(f\"a{i + 1}\"))) \n",
    "    else:\n",
    "        ansatz1.add(0,CNOT)\n",
    "a = ansatz1.get_circuit_parameters()\n",
    "print(a)\n",
    "vqc1.add(0, ansatz1)\n",
    "params = [2,1,1,1,1,1]\n",
    "for i in range(len(params)):\n",
    "    a[f\"a{i}\"].set_value(params[i], force=True)\n",
    "init_state = pcvl.BasicState([1, 0, 1, 0])\n",
    "vqc1.with_input(init_state)\n",
    "sampler = Sampler(vqc1)\n",
    "sampler.probs()"
   ]
  },
  {
   "cell_type": "code",
   "execution_count": null,
   "metadata": {},
   "outputs": [],
   "source": []
  }
 ],
 "metadata": {
  "kernelspec": {
   "display_name": "Python 3",
   "language": "python",
   "name": "python3"
  },
  "language_info": {
   "codemirror_mode": {
    "name": "ipython",
    "version": 3
   },
   "file_extension": ".py",
   "mimetype": "text/x-python",
   "name": "python",
   "nbconvert_exporter": "python",
   "pygments_lexer": "ipython3",
   "version": "3.10.0"
  }
 },
 "nbformat": 4,
 "nbformat_minor": 2
}
